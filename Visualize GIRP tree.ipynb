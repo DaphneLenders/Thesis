{
 "cells": [
  {
   "cell_type": "code",
   "execution_count": 3,
   "metadata": {},
   "outputs": [],
   "source": [
    "import uuid\n",
    "import pydotplus"
   ]
  },
  {
   "cell_type": "code",
   "execution_count": 4,
   "metadata": {},
   "outputs": [],
   "source": [
    "edge_labels = {'Credit History': ('Some Problems', 'No Problems'), 'Guarantors': ('No', 'Yes') , \n",
    "                'Sex & Marital Status': ('Male', 'Female'), 'Telephone': ('No', 'Yes'), 'Foreign Worker': ('No', 'Yes')\n",
    "              }"
   ]
  },
  {
   "cell_type": "code",
   "execution_count": 5,
   "metadata": {},
   "outputs": [],
   "source": [
    "def generate_prediction_german_credit(class_distribution):\n",
    "    prob_class_0 = round((class_distribution[0]/sum(class_distribution)), 2)\n",
    "    prob_class_1 = round((class_distribution[1]/sum(class_distribution)), 2)\n",
    "    return (\"Probability getting loan: \" + str(prob_class_1))\n"
   ]
  },
  {
   "cell_type": "code",
   "execution_count": 6,
   "metadata": {},
   "outputs": [],
   "source": [
    "def generate_prediction_portugese_class(class_distribution):\n",
    "    prob_class_0 = round((class_distribution[0]/sum(class_distribution)), 2)\n",
    "    prob_class_1 = round((class_distribution[1]/sum(class_distribution)), 2)\n",
    "    return (\"Probability Passing: \" + str(prob_class_1))\n"
   ]
  },
  {
   "cell_type": "code",
   "execution_count": 7,
   "metadata": {},
   "outputs": [],
   "source": [
    "def generate_edge_label(node, treshold, is_right):\n",
    "    node_label = node.get_label()\n",
    "    if node_label in edge_labels.keys():\n",
    "        return edge_labels[node_label][is_right]\n",
    "    elif is_right:\n",
    "            return('> ' + str(treshold))\n",
    "    else: \n",
    "        return ('<= ' + str(treshold))\n"
   ]
  },
  {
   "cell_type": "code",
   "execution_count": 8,
   "metadata": {},
   "outputs": [],
   "source": [
    "def visit(tree, parent, treshold, function_generating_labels, graph):\n",
    "    graph.add_node(parent)\n",
    "    \n",
    "    tree_left = tree['left']\n",
    "    tree_right = tree['right']\n",
    "\n",
    "    \n",
    "    if not isinstance(tree_left, dict):\n",
    "        node_left = pydotplus.Node(str(uuid.uuid1()), label=function_generating_labels(tree_left), shape = \"plaintext\", style=\"filled\", fillcolor = \"lightblue\")\n",
    "        graph.add_node(node_left)\n",
    "        \n",
    "        edge_label = generate_edge_label(parent, treshold, is_right = False)\n",
    "        print(edge_label)\n",
    "        edge_left = pydotplus.Edge(parent, node_left, label = edge_label)\n",
    "        graph.add_edge(edge_left)\n",
    "\n",
    "    elif isinstance(tree_left, dict):\n",
    "        node_left = pydotplus.Node(str(uuid.uuid1()), label=str(tree_left['var']), style=\"filled\", fillcolor = \"lightyellow\")\n",
    "        \n",
    "        edge_label = generate_edge_label(parent, treshold, is_right = False)\n",
    "        edge_left = pydotplus.Edge(parent, node_left, label = edge_label)\n",
    "        graph.add_edge(edge_left)\n",
    "        visit(tree_left, node_left, tree_left['cut_off_value'], function_generating_labels, graph)\n",
    "\n",
    "    if not isinstance(tree_right, dict):\n",
    "        node_right = pydotplus.Node(str(uuid.uuid1()), label=function_generating_labels(tree_right), shape = \"plaintext\", style=\"filled\", fillcolor = \"lightblue\")\n",
    "        graph.add_node(node_right)\n",
    "        \n",
    "        edge_label = generate_edge_label(parent, treshold, is_right = True)\n",
    "        edge_right = pydotplus.Edge(parent, node_right, label = edge_label)\n",
    "        graph.add_edge(edge_right)\n",
    "\n",
    "    elif isinstance(tree_right, dict):\n",
    "        node_right = pydotplus.Node(str(uuid.uuid1()), label = str(tree_right['var']), style=\"filled\", fillcolor = \"lightyellow\")\n",
    "        \n",
    "        edge_label = generate_edge_label(parent, treshold, is_right = True)\n",
    "        edge_right = pydotplus.Edge(parent, node_right, label = edge_label)\n",
    "        graph.add_edge(edge_right)\n",
    "        visit(tree_right, node_right, tree_right['cut_off_value'], function_generating_labels, graph)\n"
   ]
  },
  {
   "cell_type": "code",
   "execution_count": 9,
   "metadata": {},
   "outputs": [],
   "source": [
    "portugese_report = {'var': 'G1', 'gain': 4.51848376764487, 'cut_off_value': 6, 'value': (406, 119), 'left': {'var': 'G1', 'gain': 3.305925157479634, 'cut_off_value': 4, 'value': (129, 277), 'left': (127, 2), 'right': {'var': 'G1', 'gain': 2.2332515878479438, 'cut_off_value': 5, 'value': (81, 196), 'left': {'var': 'failures', 'gain': 1.5536092805522908, 'cut_off_value': 1, 'value': (79, 2), 'left': {'var': 'failures', 'gain': 0.986378788918177, 'cut_off_value': 0, 'value': (68, 11), 'left': {'var': 'Fedu', 'gain': 0.8180431435030187, 'cut_off_value': 1, 'value': (20, 48), 'left': {'var': 'absences', 'gain': 0.681992805755763, 'cut_off_value': 2, 'value': (11, 9), 'left': (11, 0), 'right': (7, 2)}, 'right': {'var': 'absences', 'gain': 0.7272660101298243, 'cut_off_value': 3, 'value': (24, 24), 'left': (16, 8), 'right': (5, 19)}}, 'right': {'var': 'Fedu', 'gain': 0.6630433595606259, 'cut_off_value': 2, 'value': (7, 4), 'left': (7, 0), 'right': (2, 2)}}, 'right': (2, 0)}, 'right': {'var': 'failures', 'gain': 1.9608692817543585, 'cut_off_value': 1, 'value': (194, 2), 'left': (0, 194), 'right': (2, 0)}}}, 'right': (0, 119)}"
   ]
  },
  {
   "cell_type": "code",
   "execution_count": 10,
   "metadata": {
    "scrolled": true
   },
   "outputs": [],
   "source": [
    "\n",
    "def make_graph(tree, image_name, label_function):\n",
    "    #graph = pydotplus.Dot(graph_type='graph', bgcolor = '#f0f2f5')\n",
    "    graph = pydotplus.Dot(graph_type='graph')\n",
    "    root = tree['var']\n",
    "    root_node = pydotplus.Node(0, label=root, style=\"filled\", fillcolor = \"lightyellow\")\n",
    "    visit(tree, root_node, tree['cut_off_value'], label_function, graph)\n",
    "    graph.write_png(image_name)\n"
   ]
  },
  {
   "cell_type": "code",
   "execution_count": 11,
   "metadata": {},
   "outputs": [],
   "source": [
    "portugese_unbalanced = {'var': 'G1', 'gain': 4.51848376764487, 'cut_off_value': 6, 'value': (406, 119), 'left': {'var': 'G1', 'gain': 3.305925157479634, 'cut_off_value': 4, 'value': (129, 277), 'left': (127, 2), 'right': {'var': 'G1', 'gain': 2.2332515878479438, 'cut_off_value': 5, 'value': (81, 196), 'left': {'var': 'failures', 'gain': 1.5536092805522908, 'cut_off_value': 1, 'value': (79, 2), 'left': {'var': 'failures', 'gain': 0.986378788918177, 'cut_off_value': 0, 'value': (68, 11), 'left': {'var': 'Fedu', 'gain': 0.8180431435030187, 'cut_off_value': 1, 'value': (20, 48), 'left': {'var': 'absences', 'gain': 0.681992805755763, 'cut_off_value': 2, 'value': (11, 9), 'left': (11, 0), 'right': (7, 2)}, 'right': {'var': 'absences', 'gain': 0.7272660101298243, 'cut_off_value': 3, 'value': (24, 24), 'left': (16, 8), 'right': (5, 19)}}, 'right': {'var': 'Fedu', 'gain': 0.6630433595606259, 'cut_off_value': 2, 'value': (7, 4), 'left': (7, 0), 'right': (2, 2)}}, 'right': (2, 0)}, 'right': {'var': 'failures', 'gain': 1.9608692817543585, 'cut_off_value': 1, 'value': (194, 2), 'left': (0, 194), 'right': (2, 0)}}}, 'right': (0, 119)}"
   ]
  },
  {
   "cell_type": "code",
   "execution_count": 12,
   "metadata": {},
   "outputs": [],
   "source": [
    "portugese_usability = {'var': 'G1', 'gain': 4.643827496392312, 'cut_off_value': 6.0, 'value': (415, 110), 'left': {'var': 'G1', 'gain': 3.513636500649055, 'cut_off_value': 4.0, 'value': (138, 277), 'left': {'var': 'failures', 'gain': 0.9169992655479178, 'cut_off_value': 1, 'value': (116, 22), 'left': (116, 0), 'right': {'var': 'Medu', 'gain': 0.9474225358804688, 'cut_off_value': 3, 'value': (20, 2), 'left': (20, 0), 'right': (1, 1)}}, 'right': {'var': 'G1', 'gain': 1.8935758114463965, 'cut_off_value': 5.0, 'value': (78, 199), 'left': {'var': 'failures', 'gain': 1.6487204681646515, 'cut_off_value': 2, 'value': (77, 1), 'left': {'var': 'failures', 'gain': 1.398815369282506, 'cut_off_value': 1, 'value': (76, 1), 'left': (41, 35), 'right': (1, 0)}, 'right': (1, 0)}, 'right': (8, 10)}}, 'right': (0, 110)}"
   ]
  },
  {
   "cell_type": "code",
   "execution_count": 13,
   "metadata": {},
   "outputs": [],
   "source": [
    "german_usability_good = {'var': 'Account Balance', 'gain': 1.4774696472679225, 'cut_off_value': 2, 'value': (443, 367), 'left': {'var': 'Credit Amount', 'gain': 1.0003091243067472, 'cut_off_value': 8141, 'value': (406, 37), 'left': {'var': 'Duration of Credit (month)', 'gain': 1.221950276075629, 'cut_off_value': 39, 'value': (372, 34), 'left': {'var': 'Credit History', 'gain': 0.9529110223819048, 'cut_off_value': 1, 'value': (39, 333), 'left': (25, 14), 'right': (117, 216)}, 'right': {'var': 'Credit History', 'gain': 0.8755288252030454, 'cut_off_value': 1, 'value': (6, 28), 'left': (5, 1), 'right': (19, 9)}}, 'right': (27, 10)}, 'right': {'var': 'Credit Amount', 'gain': 1.082851800646721, 'cut_off_value': 7951, 'value': (348, 19), 'left': {'var': 'Credit History', 'gain': 1.0762483763160655, 'cut_off_value': 1, 'value': (16, 332), 'left': {'var': 'Account Balance', 'gain': 1.078454652801156, 'cut_off_value': 3, 'value': (3, 13), 'left': (2, 1), 'right': (4, 9)}, 'right': {'var': 'Account Balance', 'gain': 0.9692911436252216, 'cut_off_value': 3, 'value': (50, 282), 'left': (11, 39), 'right': (27, 255)}}, 'right': {'var': 'Age (years)', 'gain': 0.7466955657516208, 'cut_off_value': 27, 'value': (5, 14), 'left': (3, 2), 'right': {'var': 'Credit Amount', 'gain': 0.7277543291449546, 'cut_off_value': 10944, 'value': (10, 4), 'left': (2, 8), 'right': (1, 3)}}}}"
   ]
  },
  {
   "cell_type": "code",
   "execution_count": 14,
   "metadata": {},
   "outputs": [],
   "source": [
    "german_usability_bad = {'var': 'Telephone', 'gain': 2.6053010570451085, 'cut_off_value': 1, 'value': (339, 147), 'left': (36, 303), 'right': {'var': 'Account Balance', 'gain': 1.370261477609264, 'cut_off_value': 2, 'value': (100, 47), 'left': {'var': 'Credit Amount', 'gain': 1.171848143292439, 'cut_off_value': 8186, 'value': (78, 22), 'left': {'var': 'Credit History', 'gain': 1.0466567562385038, 'cut_off_value': 1, 'value': (12, 66), 'left': (9, 3), 'right': (43, 23)}, 'right': {'var': 'Credit Amount', 'gain': 1.4470614770737786, 'cut_off_value': 9711, 'value': (6, 16), 'left': (6, 0), 'right': (15, 1)}}, 'right': {'var': 'Credit History', 'gain': 1.1402470431657452, 'cut_off_value': 1, 'value': (3, 44), 'left': (3, 0), 'right': {'var': 'Duration of Credit (month)', 'gain': 1.022100220900029, 'cut_off_value': 31, 'value': (33, 11), 'left': (8, 25), 'right': (7, 4)}}}}"
   ]
  },
  {
   "cell_type": "code",
   "execution_count": 15,
   "metadata": {},
   "outputs": [],
   "source": [
    "german_usability_bad = {'var': 'Telephone', 'gain': 2.6053010570451085, 'cut_off_value': 1, 'value': (339, 147), 'left': (36, 303), 'right': {'var': 'Account Balance', 'gain': 1.370261477609264, 'cut_off_value': \"0€\", 'value': (100, 47), 'left': {'var': 'Credit Amount', 'gain': 1.171848143292439, 'cut_off_value': \"8186€\", 'value': (78, 22), 'left': {'var': 'Credit History', 'gain': 1.0466567562385038, 'cut_off_value': 1, 'value': (12, 66), 'left': (9, 3), 'right': (43, 23)}, 'right': {'var': 'Credit Amount', 'gain': 1.4470614770737786, 'cut_off_value': \"9711€\", 'value': (6, 16), 'left': (6, 0), 'right': (15, 1)}}, 'right': {'var': 'Credit History', 'gain': 1.1402470431657452, 'cut_off_value': 1, 'value': (3, 44), 'left': (3, 0), 'right': {'var': 'Duration of Credit (month)', 'gain': 1.022100220900029, 'cut_off_value': \"31 months\", 'value': (33, 11), 'left': (8, 25), 'right': (7, 4)}}}}"
   ]
  },
  {
   "cell_type": "code",
   "execution_count": 16,
   "metadata": {},
   "outputs": [],
   "source": [
    "german_usability_good = {'var': 'Account Balance', 'gain': 1.718429441884081, 'cut_off_value': '0€', 'value': (189, 135), 'left': {'var': 'Credit History', 'gain': 1.067604191117526, 'cut_off_value': 1, 'value': (53, 136), 'left': (100, 10), 'right': {'var': 'Duration of Credit (month)', 'gain': 1.0300165283877183, 'cut_off_value': '27 months', 'value': (102, 34), 'left': {'var': 'Credit Amount', 'gain': 0.9075843571498613, 'cut_off_value': '1372€', 'value': (26, 76), 'left': (19, 57), 'right': (12, 14)}, 'right': {'var': 'Credit Amount', 'gain': 0.6993306198102587, 'cut_off_value': '4513€', 'value': (17, 17), 'left': (9, 8), 'right': (12, 5)}}}, 'right': {'var': 'Credit Amount', 'gain': 0.8226548886916607, 'cut_off_value': '7074€', 'value': (123, 12), 'left': {'var': 'Account Balance', 'gain': 0.8062515526647993, 'cut_off_value': '200€', 'value': (19, 104), 'left': (3, 7), 'right': (1, 9)}, 'right': (4, 8)}}"
   ]
  },
  {
   "cell_type": "code",
   "execution_count": 17,
   "metadata": {},
   "outputs": [],
   "source": [
    "portugese_lowest = {'var': 'G1', 'gain': 4.588302690103349, 'cut_off_value': 6.0, 'value': (401, 124), 'left': {'var': 'G1', 'gain': 3.1461055221914203, 'cut_off_value': 4.0, 'value': (133, 268), 'left': (132, 1), 'right': {'var': 'failures', 'gain': 2.347187731157309, 'cut_off_value': 2, 'value': (265, 3), 'left': {'var': 'failures', 'gain': 2.311922110362198, 'cut_off_value': 1, 'value': (263, 2), 'left': {'var': 'G1', 'gain': 2.058462931239842, 'cut_off_value': 5.0, 'value': (74, 189), 'left': {'var': 'Fedu', 'gain': 1.4977405996149422, 'cut_off_value': 3, 'value': (65, 9), 'left': (41, 24), 'right': (0, 9)}, 'right': {'var': 'Fedu', 'gain': 1.2206065982212255, 'cut_off_value': 2, 'value': (108, 81), 'left': (2, 106), 'right': (0, 81)}}, 'right': (2, 0)}, 'right': (3, 0)}}, 'right': (0, 124)}"
   ]
  },
  {
   "cell_type": "code",
   "execution_count": 18,
   "metadata": {},
   "outputs": [],
   "source": [
    "portugese_report =  {'var': 'G1', 'gain': 4.643827496392312, 'cut_off_value': 6.0, 'value': (415, 110), 'left': {'var': 'G1', 'gain': 3.513636500649055, 'cut_off_value': 4.0, 'value': (138, 277), 'left': {'var': 'failures', 'gain': 0.9169992655479178, 'cut_off_value': 1, 'value': (116, 22), 'left': (116, 0), 'right': {'var': 'Medu', 'gain': 0.9474225358804688, 'cut_off_value': 3, 'value': (20, 2), 'left': (20, 0), 'right': (1, 1)}}, 'right': {'var': 'G1', 'gain': 1.8935758114463965, 'cut_off_value': 5.0, 'value': (78, 199), 'left': {'var': 'failures', 'gain': 1.6487204681646515, 'cut_off_value': 2, 'value': (77, 1), 'left': {'var': 'failures', 'gain': 1.398815369282506, 'cut_off_value': 1, 'value': (76, 1), 'left': {'var': 'absences', 'gain': 0.7919169118497533, 'cut_off_value': 2, 'value': (39, 37), 'left': (30, 9), 'right': {'var': 'Fedu', 'gain': 0.6338360761602719, 'cut_off_value': 1, 'value': (12, 25), 'left': {'var': 'failures', 'gain': 0.5940436646342278, 'cut_off_value': 0, 'value': (10, 2), 'left': (4, 6), 'right': (2, 0)}, 'right': {'var': 'studytime', 'gain': 0.5565547721470585, 'cut_off_value': 3, 'value': (23, 2), 'left': (3, 20), 'right': (2, 0)}}}, 'right': (1, 0)}, 'right': (1, 0)}, 'right': {'var': 'failures', 'gain': 2.0027255003124176, 'cut_off_value': 2, 'value': (198, 1), 'left': {'var': 'failures', 'gain': 1.8667340910601131, 'cut_off_value': 1, 'value': (197, 1), 'left': {'var': 'failures', 'gain': 1.0495558602257549, 'cut_off_value': 0, 'value': (191, 6), 'left': (0, 191), 'right': (1, 5)}, 'right': (1, 0)}, 'right': (1, 0)}}}, 'right': (0, 110)}"
   ]
  },
  {
   "cell_type": "code",
   "execution_count": 19,
   "metadata": {},
   "outputs": [
    {
     "name": "stdout",
     "output_type": "stream",
     "text": [
      "<= 1\n",
      "<= 3\n",
      "<= 2\n",
      "<= 0\n",
      "<= 3\n",
      "<= 0\n"
     ]
    }
   ],
   "source": [
    "make_graph(portugese_report, 'report.png', generate_prediction_portugese_class)"
   ]
  },
  {
   "cell_type": "code",
   "execution_count": 18,
   "metadata": {},
   "outputs": [
    {
     "name": "stdout",
     "output_type": "stream",
     "text": [
      "Some Problems\n",
      "<= 1372€\n",
      "<= 4513€\n",
      "<= 200€\n"
     ]
    }
   ],
   "source": [
    "make_graph(german_usability_good, 'ggood.png', generate_prediction_german_credit)"
   ]
  },
  {
   "cell_type": "code",
   "execution_count": 19,
   "metadata": {},
   "outputs": [],
   "source": [
    "german_lowest_perform = {'var': 'Account Balance', 'gain': 1.6025938255526073, 'cut_off_value': 2, 'value': (191, 133), 'left': {'var': 'Credit History', 'gain': 1.089591670232243, 'cut_off_value': 1, 'value': (59, 132), 'left': (47, 12), 'right': {'var': 'Duration of Credit (month)', 'gain': 0.9602545567816406, 'cut_off_value': 27, 'value': (99, 33), 'left': {'var': 'Credit Amount', 'gain': 1.034655035230759, 'cut_off_value': 1369, 'value': (25, 74), 'left': {'var': 'Duration of Credit (month)', 'gain': 0.5270289933889524, 'cut_off_value': 9, 'value': (11, 14), 'left': {'var': 'Credit Amount', 'gain': 1.3572741076350212, 'cut_off_value': 556, 'value': (3, 8), 'left': (0, 3), 'right': {'var': 'Credit Amount', 'gain': 0.6699394086996714, 'cut_off_value': 1010, 'value': (2, 6), 'left': (1, 1), 'right': (1, 5)}}, 'right': {'var': 'Credit Amount', 'gain': 0.4150931969285011, 'cut_off_value': 859, 'value': (4, 10), 'left': (2, 2), 'right': {'var': 'Credit Amount', 'gain': 0.3086110889911653, 'cut_off_value': 1194, 'value': (5, 5), 'left': (4, 1), 'right': (3, 2)}}}, 'right': {'var': 'Credit Amount', 'gain': 0.535098699909268, 'cut_off_value': 6466, 'value': (66, 8), 'left': {'var': 'Guarantor', 'gain': 0.3968121770037604, 'cut_off_value': 1, 'value': (56, 10), 'left': {'var': 'Account Balance', 'gain': 0.38441067646588056, 'cut_off_value': 1, 'value': (31, 25), 'left': {'var': 'Credit Amount', 'gain': 0.44295285528768663, 'cut_off_value': 1946, 'value': (8, 23), 'left': (1, 7), 'right': (3, 20)}, 'right': (0, 25)}, 'right': (0, 10)}, 'right': {'var': 'Credit Amount', 'gain': 0.8461645288126809, 'cut_off_value': 9014, 'value': (7, 1), 'left': {'var': 'Age (years)', 'gain': 0.48066162317991257, 'cut_off_value': 33, 'value': (2, 5), 'left': (0, 2), 'right': (1, 4)}, 'right': (1, 0)}}}, 'right': {'var': 'Credit Amount', 'gain': 0.5157828275064406, 'cut_off_value': 8786, 'value': (28, 5), 'left': {'var': 'Guarantor', 'gain': 0.35785328282509, 'cut_off_value': 1, 'value': (24, 4), 'left': {'var': 'Account Balance', 'gain': 0.3757126935358558, 'cut_off_value': 1, 'value': (14, 10), 'left': {'var': 'Age (years)', 'gain': 0.1898931192441119, 'cut_off_value': 33, 'value': (9, 5), 'left': {'var': 'Age (years)', 'gain': 0.4872476539264123, 'cut_off_value': 27, 'value': (6, 3), 'left': (5, 1), 'right': (2, 1)}, 'right': (5, 0)}, 'right': {'var': 'Duration of Credit (month)', 'gain': 0.811459771313128, 'cut_off_value': 31, 'value': (3, 7), 'left': (0, 3), 'right': {'var': 'Age (years)', 'gain': 0.36717807948589326, 'cut_off_value': 36, 'value': (5, 2), 'left': (1, 4), 'right': (1, 1)}}}, 'right': (2, 2)}, 'right': (3, 2)}}}, 'right': {'var': 'Account Balance', 'gain': 1.5644642974723848, 'cut_off_value': 3, 'value': (19, 114), 'left': {'var': 'Credit Amount', 'gain': 1.3037760713270732, 'cut_off_value': 1159, 'value': (5, 14), 'left': (3, 2), 'right': {'var': 'Credit History', 'gain': 1.0113045200705528, 'cut_off_value': 1, 'value': (2, 12), 'left': (1, 1), 'right': (0, 12)}}, 'right': {'var': 'Duration of Credit (month)', 'gain': 1.2196505578655388, 'cut_off_value': 33, 'value': (93, 21), 'left': (0, 93), 'right': {'var': 'Credit Amount', 'gain': 0.9941721044946462, 'cut_off_value': 8858, 'value': (16, 5), 'left': {'var': 'Age (years)', 'gain': 0.6522092892943571, 'cut_off_value': 27, 'value': (4, 12), 'left': (2, 2), 'right': {'var': 'Credit Amount', 'gain': 0.5048123244196177, 'cut_off_value': 3754, 'value': (6, 6), 'left': (0, 6), 'right': (1, 5)}}, 'right': (1, 4)}}}}"
   ]
  },
  {
   "cell_type": "code",
   "execution_count": 20,
   "metadata": {},
   "outputs": [],
   "source": [
    "german_highest_perform = {'var': 'Account Balance', 'gain': 1.3293140611195033, 'cut_off_value': 2, 'value': (192, 132), 'left': {'var': 'Credit History', 'gain': 1.3245858324128164, 'cut_off_value': 1, 'value': (56, 136), 'left': (42, 14), 'right': {'var': 'Duration of Credit (month)', 'gain': 1.2514901204876683, 'cut_off_value': 27, 'value': (106, 30), 'left': {'var': 'Duration of Credit (month)', 'gain': 0.9353090468140548, 'cut_off_value': 15, 'value': (57, 49), 'left': {'var': 'Credit Amount', 'gain': 0.9295325224572251, 'cut_off_value': 1514, 'value': (29, 28), 'left': {'var': 'Duration of Credit (month)', 'gain': 0.48024014773822965, 'cut_off_value': 8, 'value': (8, 21), 'left': (0, 8), 'right': {'var': 'Age (years)', 'gain': 0.558292409684509, 'cut_off_value': 43, 'value': (20, 1), 'left': {'var': 'Age (years)', 'gain': 0.28867337517440317, 'cut_off_value': 33, 'value': (15, 5), 'left': (4, 11), 'right': (3, 2)}, 'right': (0, 1)}}, 'right': (0, 28)}, 'right': {'var': 'Credit Amount', 'gain': 0.7072864637280313, 'cut_off_value': 1936, 'value': (13, 36), 'left': {'var': 'Credit Amount', 'gain': 1.3111166939139367, 'cut_off_value': 1448, 'value': (8, 5), 'left': {'var': 'Credit Amount', 'gain': 0.5863249997297924, 'cut_off_value': 1314, 'value': (6, 2), 'left': (5, 1), 'right': (2, 0)}, 'right': (0, 5)}, 'right': {'var': 'Duration of Credit (month)', 'gain': 0.4597199630958063, 'cut_off_value': 19, 'value': (9, 27), 'left': (0, 9), 'right': {'var': 'Duration of Credit (month)', 'gain': 0.30615058825129554, 'cut_off_value': 23, 'value': (6, 21), 'left': (0, 6), 'right': {'var': 'Age (years)', 'gain': 0.2974409103393555, 'cut_off_value': 25, 'value': (6, 15), 'left': (3, 3), 'right': (3, 12)}}}}}, 'right': {'var': 'Duration of Credit (month)', 'gain': 0.4797030413220267, 'cut_off_value': 39, 'value': (21, 9), 'left': {'var': 'Duration of Credit (month)', 'gain': 0.9952369359709943, 'cut_off_value': 30, 'value': (6, 15), 'left': (1, 5), 'right': {'var': 'Age (years)', 'gain': 0.5725928937846965, 'cut_off_value': 27, 'value': (4, 11), 'left': (4, 0), 'right': {'var': 'Age (years)', 'gain': 0.42207975233239786, 'cut_off_value': 36, 'value': (7, 4), 'left': (3, 4), 'right': (1, 3)}}}, 'right': {'var': 'Age (years)', 'gain': 0.4317977983504534, 'cut_off_value': 39, 'value': (4, 5), 'left': (4, 0), 'right': (3, 2)}}}}, 'right': {'var': 'Credit History', 'gain': 1.0701572737123213, 'cut_off_value': 1, 'value': (15, 117), 'left': {'var': 'Account Balance', 'gain': 0.9092105190184983, 'cut_off_value': 3, 'value': (4, 11), 'left': (2, 2), 'right': {'var': 'Credit Amount', 'gain': 0.9575366174181303, 'cut_off_value': 3973, 'value': (6, 5), 'left': (0, 6), 'right': (3, 2)}}, 'right': {'var': 'Duration of Credit (month)', 'gain': 1.0809253454573222, 'cut_off_value': 32, 'value': (97, 20), 'left': {'var': 'Account Balance', 'gain': 0.9692616977290633, 'cut_off_value': 3, 'value': (12, 85), 'left': {'var': 'Credit Amount', 'gain': 1.239214516348309, 'cut_off_value': 2106, 'value': (3, 9), 'left': (1, 2), 'right': (0, 9)}, 'right': {'var': 'Duration of Credit (month)', 'gain': 0.6675628878562371, 'cut_off_value': 16, 'value': (44, 41), 'left': (0, 44), 'right': {'var': 'Credit Amount', 'gain': 0.4496186415297967, 'cut_off_value': 1851, 'value': (11, 30), 'left': {'var': 'Credit Amount', 'gain': 0.84953922778368, 'cut_off_value': 1567, 'value': (7, 4), 'left': (1, 6), 'right': (0, 4)}, 'right': (0, 30)}}}, 'right': {'var': 'Age (years)', 'gain': 0.5760930279890697, 'cut_off_value': 30, 'value': (5, 15), 'left': (2, 3), 'right': {'var': 'Account Balance', 'gain': 0.4796091743877956, 'cut_off_value': 3, 'value': (1, 14), 'left': (0, 1), 'right': {'var': 'Age (years)', 'gain': 0.3614633853236834, 'cut_off_value': 47, 'value': (12, 2), 'left': {'var': 'Age (years)', 'gain': 0.46595264474550885, 'cut_off_value': 35, 'value': (3, 9), 'left': (0, 3), 'right': {'var': 'Duration of Credit (month)', 'gain': 0.44668862223625194, 'cut_off_value': 40, 'value': (6, 3), 'left': (0, 6), 'right': (2, 1)}}, 'right': (0, 2)}}}}}}"
   ]
  },
  {
   "cell_type": "code",
   "execution_count": 25,
   "metadata": {},
   "outputs": [],
   "source": [
    "german_report = {'var': 'Account Balance', 'gain': 1.3398178310932116, 'cut_off_value': 2, 'value': (441, 369), 'left': {'var': 'Credit History', 'gain': 1.1171693916162406, 'cut_off_value': 1, 'value': (48, 393), 'left': (39, 9), 'right': {'var': 'Duration of Credit (month)', 'gain': 1.175338163193411, 'cut_off_value': 39, 'value': (356, 37), 'left': {'var': 'Duration of Credit (month)', 'gain': 0.9958679099590717, 'cut_off_value': 12, 'value': (141, 215), 'left': {'var': 'Credit Amount', 'gain': 1.524204634666014, 'cut_off_value': 7586, 'value': (139, 2), 'left': {'var': 'Duration of Credit (month)', 'gain': 0.8912643206556307, 'cut_off_value': 9, 'value': (53, 86), 'left': (3, 50), 'right': (20, 66)}, 'right': (2, 0)}, 'right': {'var': 'Credit Amount', 'gain': 0.846901049092462, 'cut_off_value': 8214, 'value': (196, 19), 'left': {'var': 'Duration of Credit (month)', 'gain': 0.6168024253951001, 'cut_off_value': 26, 'value': (150, 46), 'left': (36, 114), 'right': (21, 25)}, 'right': {'var': 'Credit Amount', 'gain': 1.2145741288860639, 'cut_off_value': 11121, 'value': (9, 10), 'left': (5, 4), 'right': (9, 1)}}}, 'right': {'var': 'Credit Amount', 'gain': 0.5547891795855536, 'cut_off_value': 8758, 'value': (31, 6), 'left': {'var': 'Age (years)', 'gain': 0.5448755654303924, 'cut_off_value': 25, 'value': (8, 23), 'left': (8, 0), 'right': {'var': 'Account Balance', 'gain': 0.5600782691529302, 'cut_off_value': 1, 'value': (12, 11), 'left': (10, 2), 'right': (5, 6)}}, 'right': (5, 1)}}}, 'right': {'var': 'Credit History', 'gain': 1.0530440808243657, 'cut_off_value': 1, 'value': (17, 352), 'left': {'var': 'Account Balance', 'gain': 0.9245514780903855, 'cut_off_value': 3, 'value': (5, 12), 'left': (3, 2), 'right': {'var': 'Duration of Credit (month)', 'gain': 1.4773893149362671, 'cut_off_value': 10, 'value': (3, 9), 'left': (0, 3), 'right': {'var': 'Credit Amount', 'gain': 0.5916092164814473, 'cut_off_value': 5193, 'value': (5, 4), 'left': (1, 4), 'right': (0, 4)}}}, 'right': {'var': 'Account Balance', 'gain': 0.9061574482543117, 'cut_off_value': 3, 'value': (45, 307), 'left': {'var': 'Duration of Credit (month)', 'gain': 1.476078439418072, 'cut_off_value': 10, 'value': (14, 31), 'left': (0, 14), 'right': {'var': 'Credit Amount', 'gain': 0.6430880039444435, 'cut_off_value': 1400, 'value': (8, 23), 'left': {'var': 'Credit Amount', 'gain': 1.7589475150619234, 'cut_off_value': 884, 'value': (1, 7), 'left': (0, 1), 'right': (3, 4)}, 'right': (0, 23)}}, 'right': {'var': 'Duration of Credit (month)', 'gain': 0.791141728976807, 'cut_off_value': 12, 'value': (118, 189), 'left': (0, 118), 'right': {'var': 'Credit Amount', 'gain': 0.6392082811245181, 'cut_off_value': 8043, 'value': (166, 23), 'left': {'var': 'Age (years)', 'gain': 0.48699246536499047, 'cut_off_value': 28, 'value': (45, 121), 'left': (1, 44), 'right': (0, 121)}, 'right': {'var': 'Credit Amount', 'gain': 0.9838819354407344, 'cut_off_value': 11014, 'value': (17, 6), 'left': (1, 16), 'right': (3, 3)}}}}}}"
   ]
  },
  {
   "cell_type": "code",
   "execution_count": 24,
   "metadata": {},
   "outputs": [],
   "source": [
    "german_report = {'var': 'Account Balance', 'gain': 1.3398178310932116, 'cut_off_value': 2, 'value': (441, 369), \n",
    "                 'left': {'var': 'Credit History', 'gain': 1.1171693916162406, 'cut_off_value': 1, 'value': (48, 393), \n",
    "                'left': (39, 9), \n",
    "                'right': {'var': 'Duration of Credit (month)', 'gain': 1.175338163193411, 'cut_off_value': 39, \n",
    "                'value': (356, 37), 'left': {'var': 'Duration of Credit (month)', 'gain': 0.9958679099590717, \n",
    "                'cut_off_value': 12, 'value': (141, 215), \n",
    "                'left': ('...', '...'), 'right': ('...','...')}} , 'right':('...', '...')}, 'right':('...', '...')}"
   ]
  },
  {
   "cell_type": "code",
   "execution_count": 25,
   "metadata": {},
   "outputs": [
    {
     "name": "stdout",
     "output_type": "stream",
     "text": [
      "Some Problems\n"
     ]
    },
    {
     "ename": "TypeError",
     "evalue": "unsupported operand type(s) for +: 'int' and 'str'",
     "output_type": "error",
     "traceback": [
      "\u001b[1;31m---------------------------------------------------------------------------\u001b[0m",
      "\u001b[1;31mTypeError\u001b[0m                                 Traceback (most recent call last)",
      "\u001b[1;32m<ipython-input-25-41fc0b27d1f9>\u001b[0m in \u001b[0;36m<module>\u001b[1;34m\u001b[0m\n\u001b[1;32m----> 1\u001b[1;33m \u001b[0mmake_graph\u001b[0m\u001b[1;33m(\u001b[0m\u001b[0mgerman_report\u001b[0m\u001b[1;33m,\u001b[0m \u001b[1;34m'german_report.png'\u001b[0m\u001b[1;33m,\u001b[0m \u001b[0mgenerate_prediction_german_credit\u001b[0m\u001b[1;33m)\u001b[0m\u001b[1;33m\u001b[0m\u001b[1;33m\u001b[0m\u001b[0m\n\u001b[0m",
      "\u001b[1;32m<ipython-input-10-910efd4ad51e>\u001b[0m in \u001b[0;36mmake_graph\u001b[1;34m(tree, image_name, label_function)\u001b[0m\n\u001b[0;32m      4\u001b[0m     \u001b[0mroot\u001b[0m \u001b[1;33m=\u001b[0m \u001b[0mtree\u001b[0m\u001b[1;33m[\u001b[0m\u001b[1;34m'var'\u001b[0m\u001b[1;33m]\u001b[0m\u001b[1;33m\u001b[0m\u001b[1;33m\u001b[0m\u001b[0m\n\u001b[0;32m      5\u001b[0m     \u001b[0mroot_node\u001b[0m \u001b[1;33m=\u001b[0m \u001b[0mpydotplus\u001b[0m\u001b[1;33m.\u001b[0m\u001b[0mNode\u001b[0m\u001b[1;33m(\u001b[0m\u001b[1;36m0\u001b[0m\u001b[1;33m,\u001b[0m \u001b[0mlabel\u001b[0m\u001b[1;33m=\u001b[0m\u001b[0mroot\u001b[0m\u001b[1;33m,\u001b[0m \u001b[0mstyle\u001b[0m\u001b[1;33m=\u001b[0m\u001b[1;34m\"filled\"\u001b[0m\u001b[1;33m,\u001b[0m \u001b[0mfillcolor\u001b[0m \u001b[1;33m=\u001b[0m \u001b[1;34m\"lightyellow\"\u001b[0m\u001b[1;33m)\u001b[0m\u001b[1;33m\u001b[0m\u001b[1;33m\u001b[0m\u001b[0m\n\u001b[1;32m----> 6\u001b[1;33m     \u001b[0mvisit\u001b[0m\u001b[1;33m(\u001b[0m\u001b[0mtree\u001b[0m\u001b[1;33m,\u001b[0m \u001b[0mroot_node\u001b[0m\u001b[1;33m,\u001b[0m \u001b[0mtree\u001b[0m\u001b[1;33m[\u001b[0m\u001b[1;34m'cut_off_value'\u001b[0m\u001b[1;33m]\u001b[0m\u001b[1;33m,\u001b[0m \u001b[0mlabel_function\u001b[0m\u001b[1;33m,\u001b[0m \u001b[0mgraph\u001b[0m\u001b[1;33m)\u001b[0m\u001b[1;33m\u001b[0m\u001b[1;33m\u001b[0m\u001b[0m\n\u001b[0m\u001b[0;32m      7\u001b[0m     \u001b[0mgraph\u001b[0m\u001b[1;33m.\u001b[0m\u001b[0mwrite_png\u001b[0m\u001b[1;33m(\u001b[0m\u001b[0mimage_name\u001b[0m\u001b[1;33m)\u001b[0m\u001b[1;33m\u001b[0m\u001b[1;33m\u001b[0m\u001b[0m\n",
      "\u001b[1;32m<ipython-input-8-6be446831337>\u001b[0m in \u001b[0;36mvisit\u001b[1;34m(tree, parent, treshold, function_generating_labels, graph)\u001b[0m\n\u001b[0;32m     21\u001b[0m         \u001b[0medge_left\u001b[0m \u001b[1;33m=\u001b[0m \u001b[0mpydotplus\u001b[0m\u001b[1;33m.\u001b[0m\u001b[0mEdge\u001b[0m\u001b[1;33m(\u001b[0m\u001b[0mparent\u001b[0m\u001b[1;33m,\u001b[0m \u001b[0mnode_left\u001b[0m\u001b[1;33m,\u001b[0m \u001b[0mlabel\u001b[0m \u001b[1;33m=\u001b[0m \u001b[0medge_label\u001b[0m\u001b[1;33m)\u001b[0m\u001b[1;33m\u001b[0m\u001b[1;33m\u001b[0m\u001b[0m\n\u001b[0;32m     22\u001b[0m         \u001b[0mgraph\u001b[0m\u001b[1;33m.\u001b[0m\u001b[0madd_edge\u001b[0m\u001b[1;33m(\u001b[0m\u001b[0medge_left\u001b[0m\u001b[1;33m)\u001b[0m\u001b[1;33m\u001b[0m\u001b[1;33m\u001b[0m\u001b[0m\n\u001b[1;32m---> 23\u001b[1;33m         \u001b[0mvisit\u001b[0m\u001b[1;33m(\u001b[0m\u001b[0mtree_left\u001b[0m\u001b[1;33m,\u001b[0m \u001b[0mnode_left\u001b[0m\u001b[1;33m,\u001b[0m \u001b[0mtree_left\u001b[0m\u001b[1;33m[\u001b[0m\u001b[1;34m'cut_off_value'\u001b[0m\u001b[1;33m]\u001b[0m\u001b[1;33m,\u001b[0m \u001b[0mfunction_generating_labels\u001b[0m\u001b[1;33m,\u001b[0m \u001b[0mgraph\u001b[0m\u001b[1;33m)\u001b[0m\u001b[1;33m\u001b[0m\u001b[1;33m\u001b[0m\u001b[0m\n\u001b[0m\u001b[0;32m     24\u001b[0m \u001b[1;33m\u001b[0m\u001b[0m\n\u001b[0;32m     25\u001b[0m     \u001b[1;32mif\u001b[0m \u001b[1;32mnot\u001b[0m \u001b[0misinstance\u001b[0m\u001b[1;33m(\u001b[0m\u001b[0mtree_right\u001b[0m\u001b[1;33m,\u001b[0m \u001b[0mdict\u001b[0m\u001b[1;33m)\u001b[0m\u001b[1;33m:\u001b[0m\u001b[1;33m\u001b[0m\u001b[1;33m\u001b[0m\u001b[0m\n",
      "\u001b[1;32m<ipython-input-8-6be446831337>\u001b[0m in \u001b[0;36mvisit\u001b[1;34m(tree, parent, treshold, function_generating_labels, graph)\u001b[0m\n\u001b[0;32m     24\u001b[0m \u001b[1;33m\u001b[0m\u001b[0m\n\u001b[0;32m     25\u001b[0m     \u001b[1;32mif\u001b[0m \u001b[1;32mnot\u001b[0m \u001b[0misinstance\u001b[0m\u001b[1;33m(\u001b[0m\u001b[0mtree_right\u001b[0m\u001b[1;33m,\u001b[0m \u001b[0mdict\u001b[0m\u001b[1;33m)\u001b[0m\u001b[1;33m:\u001b[0m\u001b[1;33m\u001b[0m\u001b[1;33m\u001b[0m\u001b[0m\n\u001b[1;32m---> 26\u001b[1;33m         \u001b[0mnode_right\u001b[0m \u001b[1;33m=\u001b[0m \u001b[0mpydotplus\u001b[0m\u001b[1;33m.\u001b[0m\u001b[0mNode\u001b[0m\u001b[1;33m(\u001b[0m\u001b[0mstr\u001b[0m\u001b[1;33m(\u001b[0m\u001b[0muuid\u001b[0m\u001b[1;33m.\u001b[0m\u001b[0muuid1\u001b[0m\u001b[1;33m(\u001b[0m\u001b[1;33m)\u001b[0m\u001b[1;33m)\u001b[0m\u001b[1;33m,\u001b[0m \u001b[0mlabel\u001b[0m\u001b[1;33m=\u001b[0m\u001b[0mfunction_generating_labels\u001b[0m\u001b[1;33m(\u001b[0m\u001b[0mtree_right\u001b[0m\u001b[1;33m)\u001b[0m\u001b[1;33m,\u001b[0m \u001b[0mshape\u001b[0m \u001b[1;33m=\u001b[0m \u001b[1;34m\"plaintext\"\u001b[0m\u001b[1;33m,\u001b[0m \u001b[0mstyle\u001b[0m\u001b[1;33m=\u001b[0m\u001b[1;34m\"filled\"\u001b[0m\u001b[1;33m,\u001b[0m \u001b[0mfillcolor\u001b[0m \u001b[1;33m=\u001b[0m \u001b[1;34m\"lightblue\"\u001b[0m\u001b[1;33m)\u001b[0m\u001b[1;33m\u001b[0m\u001b[1;33m\u001b[0m\u001b[0m\n\u001b[0m\u001b[0;32m     27\u001b[0m         \u001b[0mgraph\u001b[0m\u001b[1;33m.\u001b[0m\u001b[0madd_node\u001b[0m\u001b[1;33m(\u001b[0m\u001b[0mnode_right\u001b[0m\u001b[1;33m)\u001b[0m\u001b[1;33m\u001b[0m\u001b[1;33m\u001b[0m\u001b[0m\n\u001b[0;32m     28\u001b[0m \u001b[1;33m\u001b[0m\u001b[0m\n",
      "\u001b[1;32m<ipython-input-5-4df9387d3b4f>\u001b[0m in \u001b[0;36mgenerate_prediction_german_credit\u001b[1;34m(class_distribution)\u001b[0m\n\u001b[0;32m      1\u001b[0m \u001b[1;32mdef\u001b[0m \u001b[0mgenerate_prediction_german_credit\u001b[0m\u001b[1;33m(\u001b[0m\u001b[0mclass_distribution\u001b[0m\u001b[1;33m)\u001b[0m\u001b[1;33m:\u001b[0m\u001b[1;33m\u001b[0m\u001b[1;33m\u001b[0m\u001b[0m\n\u001b[1;32m----> 2\u001b[1;33m     \u001b[0mprob_class_0\u001b[0m \u001b[1;33m=\u001b[0m \u001b[0mround\u001b[0m\u001b[1;33m(\u001b[0m\u001b[1;33m(\u001b[0m\u001b[0mclass_distribution\u001b[0m\u001b[1;33m[\u001b[0m\u001b[1;36m0\u001b[0m\u001b[1;33m]\u001b[0m\u001b[1;33m/\u001b[0m\u001b[0msum\u001b[0m\u001b[1;33m(\u001b[0m\u001b[0mclass_distribution\u001b[0m\u001b[1;33m)\u001b[0m\u001b[1;33m)\u001b[0m\u001b[1;33m,\u001b[0m \u001b[1;36m2\u001b[0m\u001b[1;33m)\u001b[0m\u001b[1;33m\u001b[0m\u001b[1;33m\u001b[0m\u001b[0m\n\u001b[0m\u001b[0;32m      3\u001b[0m     \u001b[0mprob_class_1\u001b[0m \u001b[1;33m=\u001b[0m \u001b[0mround\u001b[0m\u001b[1;33m(\u001b[0m\u001b[1;33m(\u001b[0m\u001b[0mclass_distribution\u001b[0m\u001b[1;33m[\u001b[0m\u001b[1;36m1\u001b[0m\u001b[1;33m]\u001b[0m\u001b[1;33m/\u001b[0m\u001b[0msum\u001b[0m\u001b[1;33m(\u001b[0m\u001b[0mclass_distribution\u001b[0m\u001b[1;33m)\u001b[0m\u001b[1;33m)\u001b[0m\u001b[1;33m,\u001b[0m \u001b[1;36m2\u001b[0m\u001b[1;33m)\u001b[0m\u001b[1;33m\u001b[0m\u001b[1;33m\u001b[0m\u001b[0m\n\u001b[0;32m      4\u001b[0m     \u001b[1;32mreturn\u001b[0m \u001b[1;33m(\u001b[0m\u001b[1;34m\"Probability getting loan: \"\u001b[0m \u001b[1;33m+\u001b[0m \u001b[0mstr\u001b[0m\u001b[1;33m(\u001b[0m\u001b[0mprob_class_1\u001b[0m\u001b[1;33m)\u001b[0m\u001b[1;33m)\u001b[0m\u001b[1;33m\u001b[0m\u001b[1;33m\u001b[0m\u001b[0m\n",
      "\u001b[1;31mTypeError\u001b[0m: unsupported operand type(s) for +: 'int' and 'str'"
     ]
    }
   ],
   "source": [
    "make_graph(german_report, 'german_report.png', generate_prediction_german_credit)"
   ]
  },
  {
   "cell_type": "code",
   "execution_count": null,
   "metadata": {},
   "outputs": [],
   "source": []
  },
  {
   "cell_type": "code",
   "execution_count": null,
   "metadata": {},
   "outputs": [],
   "source": []
  }
 ],
 "metadata": {
  "kernelspec": {
   "display_name": "Python 3",
   "language": "python",
   "name": "python3"
  },
  "language_info": {
   "codemirror_mode": {
    "name": "ipython",
    "version": 3
   },
   "file_extension": ".py",
   "mimetype": "text/x-python",
   "name": "python",
   "nbconvert_exporter": "python",
   "pygments_lexer": "ipython3",
   "version": "3.7.3"
  }
 },
 "nbformat": 4,
 "nbformat_minor": 2
}
