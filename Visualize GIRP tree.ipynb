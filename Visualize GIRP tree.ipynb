{
 "cells": [
  {
   "cell_type": "code",
   "execution_count": 1,
   "metadata": {},
   "outputs": [],
   "source": [
    "import uuid\n",
    "import pydotplus"
   ]
  },
  {
   "cell_type": "code",
   "execution_count": 2,
   "metadata": {},
   "outputs": [],
   "source": [
    "def generate_prediction_german_credit(class_distribution):\n",
    "    #prob_class_0 = round((class_distribution[0]/sum(class_distribution)), 2)\n",
    "    prob_class_1 = round((class_distribution[1]/sum(class_distribution)), 2)\n",
    "    return (\"Credability: \" + str(prob_class_1))\n"
   ]
  },
  {
   "cell_type": "code",
   "execution_count": 3,
   "metadata": {},
   "outputs": [],
   "source": [
    "def visit(tree, parent, treshold):\n",
    "    graph.add_node(parent)\n",
    "    \n",
    "    tree_left = tree['left']\n",
    "    tree_right = tree['right']\n",
    "\n",
    "    \n",
    "    if not isinstance(tree_left, dict):\n",
    "        node_left = pydotplus.Node(str(uuid.uuid1()), label=generate_prediction_german_credit(tree_left), shape = \"plaintext\", style=\"filled\", fillcolor = \"lightblue\")\n",
    "        graph.add_node(node_left)\n",
    "        edge_left = pydotplus.Edge(parent, node_left, label = ('< ' + str(treshold)))\n",
    "        graph.add_edge(edge_left)\n",
    "\n",
    "    elif isinstance(tree_left, dict):\n",
    "        node_left = pydotplus.Node(str(uuid.uuid1()), label=str(tree_left['var']), style=\"filled\", fillcolor = \"lightyellow\")\n",
    "        \n",
    "        edge_left = pydotplus.Edge(parent, node_left, label = ('< ' + str(treshold)))\n",
    "        graph.add_edge(edge_left)\n",
    "        visit(tree_left, node_left, tree_left['cut_off_value'])\n",
    "\n",
    "    if not isinstance(tree_right, dict):\n",
    "        node_right = pydotplus.Node(str(uuid.uuid1()), label=generate_prediction_german_credit(tree_right), shape = \"plaintext\", style=\"filled\", fillcolor = \"lightblue\")\n",
    "        graph.add_node(node_right)\n",
    "        \n",
    "        edge_right = pydotplus.Edge(parent, node_right, label = ('>= ' + str(treshold)))\n",
    "        graph.add_edge(edge_right)\n",
    "\n",
    "    elif isinstance(tree_right, dict):\n",
    "        node_right = pydotplus.Node(str(uuid.uuid1()), label = str(tree_right['var']), style=\"filled\", fillcolor = \"lightyellow\")\n",
    "        \n",
    "        edge_right = pydotplus.Edge(parent, node_right, label = ('>= ' + str(treshold)))\n",
    "        graph.add_edge(edge_right)\n",
    "        visit(tree_right, node_right, tree_right['cut_off_value'])\n"
   ]
  },
  {
   "cell_type": "code",
   "execution_count": 4,
   "metadata": {},
   "outputs": [
    {
     "data": {
      "text/plain": [
       "True"
      ]
     },
     "execution_count": 4,
     "metadata": {},
     "output_type": "execute_result"
    }
   ],
   "source": [
    "own_tree_structure = {'var': 'Bigger_than_3', 'cut_off_value': 0.5, 'value': (8, 11), \n",
    "                      'left': {'var': 'More_Exp_4', 'cut_off_value': 0.5, 'value': (5, 3), 'left': (2, 3), 'right': (3, 0)}, \n",
    "                      'right': {'var': 'More_Exp_4', 'cut_off_value': 0.5, 'value': (3, 8), 'left': (1, 0), 'right': {'var': 'Is_Green', 'cut_off_value': 0.5, 'left': (1, 0), 'right': (1, 8)}}}\n",
    "\n",
    "\n",
    "own_tree_structure = {'var': 'Duration of Credit (month)', 'gain': 0.6114534267078817, 'cut_off_value': 36, 'value': (9, 91), 'left': {'var': 'Account Balance', 'gain': 0.5798249195019405, 'cut_off_value': 3, 'value': (3, 6), 'left': (0, 3), 'right': {'var': 'Credit Amount', 'gain': 0.41190196946263313, 'cut_off_value': 8485, 'value': (2, 4), 'left': (2, 0), 'right': (2, 2)}}, 'right': {'var': 'Account Balance', 'gain': 0.49541377541372333, 'cut_off_value': 3, 'value': (32, 59), 'left': {'var': 'Guarantors', 'gain': 0.38763844474465, 'cut_off_value': 1, 'value': (3, 29), 'left': (1, 2), 'right': {'var': 'Concurrent Credits', 'gain': 0.2806667897105217, 'cut_off_value': 2, 'value': (25, 4), 'left': {'var': 'Foreign Worker', 'gain': 0.2714989117909378, 'cut_off_value': 1, 'value': (1, 24), 'left': (0, 1), 'right': (1, 23)}, 'right': (2, 2)}}, 'right': {'var': 'Payment Status of Previous Credit', 'gain': 0.5023649851198901, 'cut_off_value': 1, 'value': (55, 4), 'left': (16, 39), 'right': (3, 1)}}}\n",
    "graph = pydotplus.Dot(graph_type='graph')\n",
    "root = own_tree_structure['var']\n",
    "root_node = pydotplus.Node(0, label=root, style=\"filled\", fillcolor = \"lightyellow\")\n",
    "visit(own_tree_structure, root_node, own_tree_structure['cut_off_value'])\n",
    "graph.write_png('example2_graph.png')\n"
   ]
  },
  {
   "cell_type": "code",
   "execution_count": null,
   "metadata": {},
   "outputs": [],
   "source": [
    "\n"
   ]
  },
  {
   "cell_type": "code",
   "execution_count": null,
   "metadata": {},
   "outputs": [],
   "source": []
  },
  {
   "cell_type": "code",
   "execution_count": null,
   "metadata": {},
   "outputs": [],
   "source": []
  }
 ],
 "metadata": {
  "kernelspec": {
   "display_name": "Python 3",
   "language": "python",
   "name": "python3"
  },
  "language_info": {
   "codemirror_mode": {
    "name": "ipython",
    "version": 3
   },
   "file_extension": ".py",
   "mimetype": "text/x-python",
   "name": "python",
   "nbconvert_exporter": "python",
   "pygments_lexer": "ipython3",
   "version": "3.7.3"
  }
 },
 "nbformat": 4,
 "nbformat_minor": 2
}
