{
 "cells": [
  {
   "cell_type": "code",
   "execution_count": 3,
   "metadata": {},
   "outputs": [],
   "source": [
    "import uuid\n",
    "import pydotplus"
   ]
  },
  {
   "cell_type": "code",
   "execution_count": 4,
   "metadata": {},
   "outputs": [],
   "source": [
    "edge_labels = {'Payment Status of Previous Credit': ('Some Problems', 'No Problems'), 'Guarantors': ('No', 'Yes') , \n",
    "                'Sex & Marital Status': ('Male', 'Female'), 'Telephone': ('Yes', 'No'), 'Foreign Worker': ('Yes', 'No'),\n",
    "                'Account Balance': ('<200€', '>= 200€')}"
   ]
  },
  {
   "cell_type": "code",
   "execution_count": 5,
   "metadata": {},
   "outputs": [],
   "source": [
    "def generate_prediction_german_credit(class_distribution):\n",
    "    #prob_class_0 = round((class_distribution[0]/sum(class_distribution)), 2)\n",
    "    if (sum(class_distribution) == 0):\n",
    "        return(\"Credatbility: 0.5\")\n",
    "    prob_class_1 = round((class_distribution[1]/sum(class_distribution)), 2)\n",
    "    return (\"Credability: \" + str(prob_class_1) + \"\\n Number of instances: \" + str(sum(class_distribution)))\n"
   ]
  },
  {
   "cell_type": "code",
   "execution_count": 6,
   "metadata": {},
   "outputs": [],
   "source": [
    "def generate_edge_label(node, treshold, is_right):\n",
    "    node_label = node.get_label()\n",
    "    if node_label in edge_labels.keys():\n",
    "        return edge_labels[node_label][is_right]\n",
    "    elif is_right:\n",
    "            return('>= ' + str(treshold))\n",
    "    else: \n",
    "        return ('< ' + str(treshold))\n"
   ]
  },
  {
   "cell_type": "code",
   "execution_count": 7,
   "metadata": {},
   "outputs": [],
   "source": [
    "def visit(tree, parent, treshold):\n",
    "    graph.add_node(parent)\n",
    "    \n",
    "    tree_left = tree['left']\n",
    "    tree_right = tree['right']\n",
    "\n",
    "    \n",
    "    if not isinstance(tree_left, dict):\n",
    "        node_left = pydotplus.Node(str(uuid.uuid1()), label=generate_prediction_german_credit(tree_left), shape = \"plaintext\", style=\"filled\", fillcolor = \"lightblue\")\n",
    "        graph.add_node(node_left)\n",
    "        \n",
    "        edge_label = generate_edge_label(parent, treshold, is_right = False)\n",
    "        print(edge_label)\n",
    "        edge_left = pydotplus.Edge(parent, node_left, label = edge_label)\n",
    "        graph.add_edge(edge_left)\n",
    "\n",
    "    elif isinstance(tree_left, dict):\n",
    "        node_left = pydotplus.Node(str(uuid.uuid1()), label=str(tree_left['var']), style=\"filled\", fillcolor = \"lightyellow\")\n",
    "        \n",
    "        edge_label = generate_edge_label(parent, treshold, is_right = False)\n",
    "        edge_left = pydotplus.Edge(parent, node_left, label = edge_label)\n",
    "        graph.add_edge(edge_left)\n",
    "        visit(tree_left, node_left, tree_left['cut_off_value'])\n",
    "\n",
    "    if not isinstance(tree_right, dict):\n",
    "        node_right = pydotplus.Node(str(uuid.uuid1()), label=generate_prediction_german_credit(tree_right), shape = \"plaintext\", style=\"filled\", fillcolor = \"lightblue\")\n",
    "        graph.add_node(node_right)\n",
    "        \n",
    "        edge_label = generate_edge_label(parent, treshold, is_right = True)\n",
    "        edge_right = pydotplus.Edge(parent, node_right, label = edge_label)\n",
    "        graph.add_edge(edge_right)\n",
    "\n",
    "    elif isinstance(tree_right, dict):\n",
    "        node_right = pydotplus.Node(str(uuid.uuid1()), label = str(tree_right['var']), style=\"filled\", fillcolor = \"lightyellow\")\n",
    "        \n",
    "        edge_label = generate_edge_label(parent, treshold, is_right = True)\n",
    "        edge_right = pydotplus.Edge(parent, node_right, label = edge_label)\n",
    "        graph.add_edge(edge_right)\n",
    "        visit(tree_right, node_right, tree_right['cut_off_value'])\n"
   ]
  },
  {
   "cell_type": "code",
   "execution_count": 8,
   "metadata": {},
   "outputs": [],
   "source": [
    "own_tree_structure = {'var': 'Duration of Credit (month)', 'gain': 0.47944942190368806, 'cut_off_value': 36, 'value': (73, 737), 'left': {'var': 'Value Savings/Stocks', 'gain': 0.4452749692361083, 'cut_off_value': 4, 'value': (16, 57), 'left': {'var': 'Account Balance', 'gain': 0.5184280236562094, 'cut_off_value': 3, 'value': (10, 6), 'left': {'var': 'Credit Purpose', 'gain': 0.399731385987252, 'cut_off_value': 2, 'value': (2, 8), 'left': (1, 1), 'right': (0, 8)}, 'right': (1, 5)}, 'right': {'var': 'Account Balance', 'gain': 0.3776584781230764, 'cut_off_value': 3, 'value': (10, 47), 'left': {'var': 'Concurrent Credits', 'gain': 0.4163433746434748, 'cut_off_value': 2, 'value': (9, 1), 'left': (3, 6), 'right': (0, 1)}, 'right': {'var': 'Guarantors', 'gain': 0.2953404357883697, 'cut_off_value': 1, 'value': (8, 39), 'left': (6, 2), 'right': {'var': 'Credit Amount', 'gain': 0.24845376125504748, 'cut_off_value': 8485, 'value': (10, 29), 'left': (7, 3), 'right': (21, 8)}}}}, 'right': {'var': 'Account Balance', 'gain': 0.46720314950176445, 'cut_off_value': 3, 'value': (298, 439), 'left': {'var': 'Credit Amount', 'gain': 0.39797944420820885, 'cut_off_value': 8485, 'value': (10, 288), 'left': {'var': 'Credit Purpose', 'gain': 0.32240854762494564, 'cut_off_value': 2, 'value': (2, 8), 'left': (1, 1), 'right': (1, 7)}, 'right': {'var': 'Foreign Worker', 'gain': 0.31965546011138773, 'cut_off_value': 1, 'value': (7, 281), 'left': (0, 7), 'right': {'var': 'Payment Status of Previous Credit', 'gain': 0.2931387494147092, 'cut_off_value': 1, 'value': (270, 11), 'left': (24, 246), 'right': (3, 8)}}}, 'right': {'var': 'Payment Status of Previous Credit', 'gain': 0.48527175561711977, 'cut_off_value': 1, 'value': (392, 47), 'left': {'var': 'Guarantors', 'gain': 0.4619679258536933, 'cut_off_value': 1, 'value': (49, 343), 'left': {'var': 'Value Savings/Stocks', 'gain': 0.43831839264074174, 'cut_off_value': 4, 'value': (5, 44), 'left': (0, 5), 'right': (14, 30)}, 'right': {'var': 'Foreign Worker', 'gain': 0.37815812387644604, 'cut_off_value': 1, 'value': (14, 329), 'left': (1, 13), 'right': (125, 204)}}, 'right': {'var': 'Guarantors', 'gain': 0.5292274119808923, 'cut_off_value': 1, 'value': (4, 43), 'left': (1, 3), 'right': {'var': 'Value Savings/Stocks', 'gain': 0.38531014198731434, 'cut_off_value': 4, 'value': (5, 38), 'left': (2, 3), 'right': (28, 10)}}}}}"
   ]
  },
  {
   "cell_type": "code",
   "execution_count": 11,
   "metadata": {},
   "outputs": [],
   "source": [
    "own_tree_structure_stupid = {'var': 'Telephone', 'gain': 0.7784626130011679, 'cut_off_value': 1, 'value': (338, 148), 'left': (31, 307), 'right': {'var': 'Payment Status of Previous Credit', 'gain': 0.5912998531782496, 'cut_off_value': 1, 'value': (21, 127), 'left': {'var': 'Value Savings/Stocks', 'gain': 0.21432967483997345, 'cut_off_value': 4, 'value': (18, 3), 'left': {'var': 'Account Balance', 'gain': 0.30356768650167126, 'cut_off_value': 3, 'value': (17, 1), 'left': {'var': 'Duration of Credit (month)', 'gain': 0.22005085933666962, 'cut_off_value': 36, 'value': (13, 4), 'left': (11, 2), 'right': (4, 0)}, 'right': (1, 0)}, 'right': (2, 1)}, 'right': {'var': 'Account Balance', 'gain': 0.346631822337303, 'cut_off_value': 3, 'value': (82, 45), 'left': {'var': 'Age (years)', 'gain': 0.3918617727351375, 'cut_off_value': 67, 'value': (80, 2), 'left': {'var': 'Guarantors', 'gain': 0.20312489245386264, 'cut_off_value': 1, 'value': (70, 10), 'left': (47, 23), 'right': (9, 1)}, 'right': (1, 1)}, 'right': {'var': 'No of dependents', 'gain': 0.16427444551833148, 'cut_off_value': 1, 'value': (43, 2), 'left': {'var': 'Duration of Credit (month)', 'gain': 0.15857456494038843, 'cut_off_value': 36, 'value': (37, 6), 'left': (12, 25), 'right': (1, 5)}, 'right': (0, 2)}}}}"
   ]
  },
  {
   "cell_type": "code",
   "execution_count": null,
   "metadata": {},
   "outputs": [],
   "source": []
  },
  {
   "cell_type": "code",
   "execution_count": 12,
   "metadata": {},
   "outputs": [
    {
     "name": "stdout",
     "output_type": "stream",
     "text": [
      "Yes\n",
      "< 36\n",
      "No\n",
      "< 36\n"
     ]
    },
    {
     "data": {
      "text/plain": [
       "True"
      ]
     },
     "execution_count": 12,
     "metadata": {},
     "output_type": "execute_result"
    }
   ],
   "source": [
    "\n",
    "graph = pydotplus.Dot(graph_type='graph')\n",
    "root = own_tree_structure_stupid['var']\n",
    "root_node = pydotplus.Node(0, label=root, style=\"filled\", fillcolor = \"lightyellow\")\n",
    "visit(own_tree_structure_stupid, root_node, own_tree_structure_stupid['cut_off_value'])\n",
    "graph.write_png('example6_graph.png')\n"
   ]
  },
  {
   "cell_type": "code",
   "execution_count": null,
   "metadata": {},
   "outputs": [],
   "source": [
    "\n"
   ]
  },
  {
   "cell_type": "code",
   "execution_count": null,
   "metadata": {},
   "outputs": [],
   "source": []
  },
  {
   "cell_type": "code",
   "execution_count": null,
   "metadata": {},
   "outputs": [],
   "source": []
  }
 ],
 "metadata": {
  "kernelspec": {
   "display_name": "Python 3",
   "language": "python",
   "name": "python3"
  },
  "language_info": {
   "codemirror_mode": {
    "name": "ipython",
    "version": 3
   },
   "file_extension": ".py",
   "mimetype": "text/x-python",
   "name": "python",
   "nbconvert_exporter": "python",
   "pygments_lexer": "ipython3",
   "version": "3.7.3"
  }
 },
 "nbformat": 4,
 "nbformat_minor": 2
}
